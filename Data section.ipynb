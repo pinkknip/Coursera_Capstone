{
 "cells": [
  {
   "cell_type": "markdown",
   "metadata": {},
   "source": [
    "### Data Section"
   ]
  },
  {
   "cell_type": "markdown",
   "metadata": {},
   "source": [
    "#### To solve this problem, we need to understand and collect the data we need. Below are the data we need to used :"
   ]
  },
  {
   "cell_type": "markdown",
   "metadata": {},
   "source": [
    "### 1. Longitude and Latitude of the old and new office\n",
    "These data are obtained from Wikipedia, which are International business park (1.329583, 103.7475) , Changi Business Park (1.334972, 103.965167).\n"
   ]
  },
  {
   "cell_type": "markdown",
   "metadata": {},
   "source": [
    "### 2.\tSingapore MRT station list\n",
    "This data is exacted from Wikipedia link  https://en.wikipedia.org/wiki/List_of_Singapore_MRT_stations. After extraction, the data is in the form of data-frame as shown in Figure p1.\n"
   ]
  },
  {
   "cell_type": "markdown",
   "metadata": {},
   "source": [
    "<img src=\"p1.png\">"
   ]
  },
  {
   "cell_type": "markdown",
   "metadata": {},
   "source": [
    "### 3.\tLongitude and Latitude of all the Singapore MRT station\n",
    "Since no available free library can be used to extract the Longitude and Latitude, it was decided to use a simple piece of code to automatically exact the Longitude and Latitude by searching the Wikipedia web page. The obtained data are shown in Figure p2.\n"
   ]
  },
  {
   "cell_type": "markdown",
   "metadata": {},
   "source": [
    "<img src=\"p2.png\">"
   ]
  },
  {
   "cell_type": "markdown",
   "metadata": {},
   "source": [
    "### 4.\tUse the Foursquare API to extract the neighborhoods in SG MRT Stations\n",
    "For each MRT station, the searching range is set as the top 100 venues within a radius of 500 meters. Then a data-frame with venues of each MRT station can be seen in Figure p3.\n"
   ]
  },
  {
   "cell_type": "markdown",
   "metadata": {},
   "source": [
    "<img src=\"p3.png\">"
   ]
  },
  {
   "cell_type": "markdown",
   "metadata": {},
   "source": [
    "### With this data set, we can cluster all these MRT into 5 clusters and sort out the most similar neighborhood that near to John’s new office."
   ]
  },
  {
   "cell_type": "code",
   "execution_count": null,
   "metadata": {},
   "outputs": [],
   "source": []
  }
 ],
 "metadata": {
  "kernelspec": {
   "display_name": "Python 3",
   "language": "python",
   "name": "python3"
  },
  "language_info": {
   "codemirror_mode": {
    "name": "ipython",
    "version": 3
   },
   "file_extension": ".py",
   "mimetype": "text/x-python",
   "name": "python",
   "nbconvert_exporter": "python",
   "pygments_lexer": "ipython3",
   "version": "3.6.5"
  }
 },
 "nbformat": 4,
 "nbformat_minor": 2
}

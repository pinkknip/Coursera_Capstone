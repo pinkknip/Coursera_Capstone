{
 "cells": [
  {
   "cell_type": "markdown",
   "metadata": {},
   "source": [
    "## Introduction"
   ]
  },
  {
   "cell_type": "markdown",
   "metadata": {},
   "source": [
    "### The Global Competitiveness Report 2014 – 2015 named Singapore as the world’s second prospering economy. By defining “competitiveness” as the set of institutions, policies and factors that determine the level of productivity of a country, the report claims to be the most authoritative assessment of the country’s prosperity and well-being. What does that mean for you and me? High wages, low unemployment rate, excellent work conditions and nourishing business development and investment climate. Due to these reasons, a large numbers of foreigners are attracted and are willing to come to Singapore for a job career. "
   ]
  },
  {
   "cell_type": "markdown",
   "metadata": {},
   "source": [
    "### According to the statistics provided by the ministry of manpower in Singapore, there are more than 794,300 foreigner workers until the Jun 2018. In average, people will change their job in 3-5 years and most of the foreigners will move their house when they change their jobs. Usually, people will prefer to move to a neighborhood that is similar as the previous house. In the mean while it is also near to the new work place. So the problem discussed in this report is how to find a house that not only near to the new working place but also has a similar environment compared with previous one when changing jobs."
   ]
  },
  {
   "cell_type": "markdown",
   "metadata": {},
   "source": [
    "### To embody the questions, suppose John is currently working in the International Business Park in Singapore and he is living near his office. Now he got a new job offer in Changi  Business Park. He wants to move his home near his new office but have a similar neighborhood as the current place he live. "
   ]
  }
 ],
 "metadata": {
  "kernelspec": {
   "display_name": "Python 3",
   "language": "python",
   "name": "python3"
  },
  "language_info": {
   "codemirror_mode": {
    "name": "ipython",
    "version": 3
   },
   "file_extension": ".py",
   "mimetype": "text/x-python",
   "name": "python",
   "nbconvert_exporter": "python",
   "pygments_lexer": "ipython3",
   "version": "3.6.5"
  }
 },
 "nbformat": 4,
 "nbformat_minor": 2
}

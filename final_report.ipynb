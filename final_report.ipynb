{
 "cells": [
  {
   "cell_type": "markdown",
   "metadata": {},
   "source": [
    "# How to choose a satisfied neighborhood when changing job"
   ]
  },
  {
   "cell_type": "markdown",
   "metadata": {},
   "source": [
    "## Introduction"
   ]
  },
  {
   "cell_type": "markdown",
   "metadata": {},
   "source": [
    "The Global Competitiveness Report 2014 – 2015 named Singapore as the world’s second prospering economy. By defining “competitiveness” as the set of institutions, policies and factors that determine the level of productivity of a country, the report claims to be the most authoritative assessment of the country’s prosperity and well-being. What does that mean for you and me? High wages, low unemployment rate, excellent work conditions and nourishing business development and investment climate. Due to these reasons, a large numbers of foreigners are attracted and are willing to come to Singapore for a job career. "
   ]
  },
  {
   "cell_type": "markdown",
   "metadata": {},
   "source": [
    "According to the statistics provided by the ministry of manpower in Singapore, there are more than 794,300 foreigner workers until the Jun 2018. In average, people will change their job in 3-5 years and most of the foreigners will move their house when they change their jobs. Usually, people will prefer to move to a neighborhood that is similar as the previous house. In the mean while it is also near to the new work place. So the problem discussed in this report is how to find a house that not only near to the new working place but also has a similar environment compared with previous one when changing jobs."
   ]
  },
  {
   "cell_type": "markdown",
   "metadata": {},
   "source": [
    "To embody the questions, suppose John is currently working in the International Business Park in Singapore and he is living near his office. Now he got a new job offer in Changi  Business Park. He wants to move his home near his new office but have a similar neighborhood as the current place he live. "
   ]
  },
  {
   "cell_type": "markdown",
   "metadata": {},
   "source": [
    "## Data Section"
   ]
  },
  {
   "cell_type": "markdown",
   "metadata": {},
   "source": [
    "#### To solve this problem, we need to understand and collect the data we need. Below are the data we need to used :"
   ]
  },
  {
   "cell_type": "markdown",
   "metadata": {},
   "source": [
    "### 1. Longitude and Latitude of the old and new office\n",
    "These data are obtained from Wikipedia, which are International business park (1.329583, 103.7475) , Changi Business Park (1.334972, 103.965167).\n"
   ]
  },
  {
   "cell_type": "markdown",
   "metadata": {},
   "source": [
    "### 2.\tSingapore MRT station list\n",
    "This data is exacted from Wikipedia link  https://en.wikipedia.org/wiki/List_of_Singapore_MRT_stations. After extraction, the data is in the form of data-frame as shown in Figure p1.\n"
   ]
  },
  {
   "cell_type": "markdown",
   "metadata": {},
   "source": [
    "<img src=\"p1.png\">"
   ]
  },
  {
   "cell_type": "markdown",
   "metadata": {},
   "source": [
    "### 3.\tLongitude and Latitude of all the Singapore MRT station\n",
    "Since no available free library can be used to extract the Longitude and Latitude, it was decided to use a simple piece of code to automatically exact the Longitude and Latitude by searching the Wikipedia web page. The obtained data are shown in Figure p2.\n"
   ]
  },
  {
   "cell_type": "markdown",
   "metadata": {},
   "source": [
    "<img src=\"p2.png\">"
   ]
  },
  {
   "cell_type": "markdown",
   "metadata": {},
   "source": [
    "### 4.\tUse the Foursquare API to extract the neighborhoods in SG MRT Stations\n",
    "For each MRT station, the searching range is set as the top 100 venues within a radius of 500 meters. Then a data-frame with venues of each MRT station can be seen in Figure p3.\n"
   ]
  },
  {
   "cell_type": "markdown",
   "metadata": {},
   "source": [
    "<img src=\"p3.png\">"
   ]
  },
  {
   "cell_type": "markdown",
   "metadata": {},
   "source": [
    "With this data set, we can cluster all these MRT into 5 clusters and sort out the most similar neighborhood that near to John’s new office."
   ]
  },
  {
   "cell_type": "markdown",
   "metadata": {},
   "source": [
    "## Methodology"
   ]
  },
  {
   "cell_type": "markdown",
   "metadata": {},
   "source": [
    "It was decided to used K-means clustering to cluster the MRT into 5 clusters according to their neighborhood. Then choose the nearest MRT station that in the same cluster as the old place. The details steps are:"
   ]
  },
  {
   "cell_type": "markdown",
   "metadata": {},
   "source": [
    "1. Based on the data set, do one-hot encoding on the 'Venue Category' column."
   ]
  },
  {
   "cell_type": "markdown",
   "metadata": {},
   "source": [
    "<img src=\"p5.png\">"
   ]
  },
  {
   "cell_type": "markdown",
   "metadata": {},
   "source": [
    "2. Train the data set using K-menas clustering to seperate into 5 clusters and add the cluster information to the original data set"
   ]
  },
  {
   "cell_type": "markdown",
   "metadata": {},
   "source": [
    "<img src=\"p6.png\">"
   ]
  },
  {
   "cell_type": "markdown",
   "metadata": {},
   "source": [
    "3. Calculte the distance from Internation Business Park to each MRT station. "
   ]
  },
  {
   "cell_type": "markdown",
   "metadata": {},
   "source": [
    "4. Choose the nearest MRT and check which cluster it belongs to."
   ]
  },
  {
   "cell_type": "markdown",
   "metadata": {},
   "source": [
    "5. Filter the data set with the cluster that chosen in step 4."
   ]
  },
  {
   "cell_type": "markdown",
   "metadata": {},
   "source": [
    "6. Sort the filtered data set by the distance to the Changi business park."
   ]
  },
  {
   "cell_type": "markdown",
   "metadata": {},
   "source": [
    "7. The neaerest one is the result."
   ]
  },
  {
   "cell_type": "markdown",
   "metadata": {},
   "source": [
    "## Results"
   ]
  },
  {
   "cell_type": "markdown",
   "metadata": {},
   "source": [
    "The result can be seen as below:"
   ]
  },
  {
   "cell_type": "markdown",
   "metadata": {},
   "source": [
    "<img src=\"p7.png\">"
   ]
  },
  {
   "cell_type": "markdown",
   "metadata": {},
   "source": [
    "The neaerest MRT station with the most similar neighborhood is the Expo MRT station."
   ]
  },
  {
   "cell_type": "markdown",
   "metadata": {},
   "source": [
    "## Discussion"
   ]
  },
  {
   "cell_type": "markdown",
   "metadata": {},
   "source": [
    "From the final result, it can be seen that Expo MRT is the nearest opetion. However, if more conditions are added, for example, John wants to have a places with more foodcourts, it may give another option that meets the other requiremnts. So using this method, the condition can be adjusted to meet different requirements."
   ]
  },
  {
   "cell_type": "markdown",
   "metadata": {},
   "source": [
    "## Conclusion"
   ]
  },
  {
   "cell_type": "markdown",
   "metadata": {},
   "source": [
    "In this report, we use a K-means clustering method to solve this location choosing problem. It can be easily used for neighborhood chosing in Singapore according to different requirements. "
   ]
  }
 ],
 "metadata": {
  "kernelspec": {
   "display_name": "Python 3",
   "language": "python",
   "name": "python3"
  },
  "language_info": {
   "codemirror_mode": {
    "name": "ipython",
    "version": 3
   },
   "file_extension": ".py",
   "mimetype": "text/x-python",
   "name": "python",
   "nbconvert_exporter": "python",
   "pygments_lexer": "ipython3",
   "version": "3.6.5"
  }
 },
 "nbformat": 4,
 "nbformat_minor": 2
}
